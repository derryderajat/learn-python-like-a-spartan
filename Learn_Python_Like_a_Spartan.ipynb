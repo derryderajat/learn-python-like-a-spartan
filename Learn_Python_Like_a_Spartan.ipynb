{
  "nbformat": 4,
  "nbformat_minor": 0,
  "metadata": {
    "kernelspec": {
      "display_name": "Python 3",
      "language": "python",
      "name": "python3"
    },
    "language_info": {
      "codemirror_mode": {
        "name": "ipython",
        "version": 3
      },
      "file_extension": ".py",
      "mimetype": "text/x-python",
      "name": "python",
      "nbconvert_exporter": "python",
      "pygments_lexer": "ipython3",
      "version": "3.8.5"
    },
    "colab": {
      "name": "Learn Python Like a Spartan.ipynb",
      "provenance": [],
      "collapsed_sections": [
        "QswQcfxW6g0q",
        "C-TPNCO-6g0s",
        "CgMqO1x-6g06",
        "zTJ8myin6g07",
        "ibeLzlDS6g0-",
        "msdou2jC6g1H",
        "v9Db_Gfa6g1I",
        "DCZhqYOS6g1L",
        "QuAiC1tT6g1N",
        "4Au1vDNq6g1N",
        "U1QIihEZ6g1V",
        "ynTXvwXj6g1V",
        "9BrpjlFF6g1a",
        "BRLFRiEB6g1c"
      ],
      "toc_visible": true,
      "include_colab_link": true
    }
  },
  "cells": [
    {
      "cell_type": "markdown",
      "metadata": {
        "id": "view-in-github",
        "colab_type": "text"
      },
      "source": [
        "<a href=\"https://colab.research.google.com/github/derryderajat/learn-python-like-a-spartan/blob/main/Learn_Python_Like_a_Spartan.ipynb\" target=\"_parent\"><img src=\"https://colab.research.google.com/assets/colab-badge.svg\" alt=\"Open In Colab\"/></a>"
      ]
    },
    {
      "cell_type": "markdown",
      "metadata": {
        "id": "fedXpjSs6g0W"
      },
      "source": [
        "# Content\n",
        "\n",
        "[1. Variables](#variables)\n",
        "\n",
        "[2. string](#string)\n",
        "\n",
        "[3. number](#number)\n",
        "\n",
        "[4. comments](#comments)\n",
        "\n",
        "[5. lists](#lists)\n",
        "\n",
        "[6. tuple](#tuple)\n",
        "\n",
        "[7. conditions](#conditions)\n",
        "\n",
        "[8. dictionary](#dictionary)\n",
        "\n",
        "[9. input](#input)\n",
        "\n",
        "[10. while](#while)\n",
        "\n",
        "[11. function](#function)\n",
        "\n",
        "[12. classes](#classes)\n",
        "\n",
        "   - 12.1 [Creating and Using a Class](#12.1)\n",
        "   - 12.2 [Working with Classes and Instances](#12.2)\n",
        "   - 12.3 [Inheritance](#12.3)"
      ]
    },
    {
      "cell_type": "markdown",
      "metadata": {
        "id": "c3lckFHl18j2"
      },
      "source": [
        "assets\n",
        "- [pizza.py](https://drive.google.com/file/d/1qlZDvy9UkIOSnLEUHkFV9_l_IXgtzlat/view?usp=sharing)"
      ]
    },
    {
      "cell_type": "markdown",
      "metadata": {
        "id": "hAH3hGpB6g0f"
      },
      "source": [
        "<a name=\"variables\"></a>\n",
        "# 1. Variables"
      ]
    },
    {
      "cell_type": "code",
      "metadata": {
        "scrolled": true,
        "id": "pm_34TNh6g0g",
        "outputId": "d44099a1-d2fd-462c-d688-50d5df445b47"
      },
      "source": [
        "message = 'Hello Python World!'\n",
        "print(message)"
      ],
      "execution_count": null,
      "outputs": [
        {
          "output_type": "stream",
          "text": [
            "Hello Python World!\n"
          ],
          "name": "stdout"
        }
      ]
    },
    {
      "cell_type": "code",
      "metadata": {
        "id": "8CuU7OH16g0i",
        "outputId": "b2fbddc2-b8db-409d-be39-9c02e1bdd4e1"
      },
      "source": [
        "# 2-1. Simple Message: Store a message in a variable, and then print that\n",
        "# message.\n",
        "status = 'Verified'\n",
        "print(status)\n",
        "# 2-2. Simple Messages: Store a message in a variable, and print that message.\n",
        "# Then change the value of your variable to a new message, and print the new\n",
        "# message.\n",
        "status = 'Err'\n",
        "print(status)"
      ],
      "execution_count": null,
      "outputs": [
        {
          "output_type": "stream",
          "text": [
            "Verified\n",
            "Err\n"
          ],
          "name": "stdout"
        }
      ]
    },
    {
      "cell_type": "markdown",
      "metadata": {
        "id": "i7bjYM8E6g0j"
      },
      "source": [
        "<a name=\"string\"></a>\n",
        "# 2. String"
      ]
    },
    {
      "cell_type": "code",
      "metadata": {
        "id": "trPfU2sh6g0k",
        "outputId": "0ca61b27-26e5-495b-d651-44341575053f"
      },
      "source": [
        "print('I told my friend, \"Python is my favorite language!\"')\n",
        "print(\"The language 'Python' is named after Monty Python, not the snake.\")\n",
        "print(\"One of Python's strengths is its diverse and supportive community.\")\n"
      ],
      "execution_count": null,
      "outputs": [
        {
          "output_type": "stream",
          "text": [
            "I told my friend, \"Python is my favorite language!\"\n",
            "The language 'Python' is named after Monty Python, not the snake.\n",
            "One of Python's strengths is its diverse and supportive community.\n"
          ],
          "name": "stdout"
        }
      ]
    },
    {
      "cell_type": "markdown",
      "metadata": {
        "id": "QVG8UHYR6g0l"
      },
      "source": [
        "**Changing Case in a String with Methods**"
      ]
    },
    {
      "cell_type": "code",
      "metadata": {
        "id": "K6SiINCv6g0l"
      },
      "source": [
        "name = 'bambang sulimbang'\n",
        "print(name.title())\n",
        "print(name.upper())\n",
        "print(name.lower())"
      ],
      "execution_count": null,
      "outputs": []
    },
    {
      "cell_type": "markdown",
      "metadata": {
        "id": "omJUyH9Y6g0m"
      },
      "source": [
        "**Combining or Concatenating String**"
      ]
    },
    {
      "cell_type": "code",
      "metadata": {
        "id": "_Wa729YW6g0m"
      },
      "source": [
        "first_name = 'bagor'\n",
        "last_name = 'tigor'\n",
        "full_name = first_name + \" \"+ last_name\n",
        "print(full_name)\n",
        "print(\"Heloo, \" + full_name.title() + \"!\")"
      ],
      "execution_count": null,
      "outputs": []
    },
    {
      "cell_type": "markdown",
      "metadata": {
        "id": "lwVEfd3p6g0n"
      },
      "source": [
        "Addding Whitespace to Strings with Tabs or Newlines"
      ]
    },
    {
      "cell_type": "code",
      "metadata": {
        "id": "wi7-gYcI6g0n",
        "outputId": "f4f06a09-f29e-4a72-dc59-91e8fc21760b"
      },
      "source": [
        "print(\"Languages:\\n\\tPython\\n\\tC\\n\\tJavaScript\")"
      ],
      "execution_count": null,
      "outputs": [
        {
          "output_type": "stream",
          "text": [
            "Languages:\n",
            "\tPython\n",
            "\tC\n",
            "\tJavaScript\n"
          ],
          "name": "stdout"
        }
      ]
    },
    {
      "cell_type": "markdown",
      "metadata": {
        "id": "4aB-LbS76g0o"
      },
      "source": [
        "**Stripping Whitespace**"
      ]
    },
    {
      "cell_type": "code",
      "metadata": {
        "id": "Ru6flILV6g0o",
        "outputId": "b79ffa6d-9587-46ee-ba15-273034d93fd7"
      },
      "source": [
        "favorite_language = ' python '\n",
        "print(favorite_language.rstrip())\n",
        "print(favorite_language.lstrip())\n",
        "print(favorite_language.strip())"
      ],
      "execution_count": null,
      "outputs": [
        {
          "output_type": "stream",
          "text": [
            " python\n",
            "python \n",
            "python\n"
          ],
          "name": "stdout"
        }
      ]
    },
    {
      "cell_type": "markdown",
      "metadata": {
        "id": "V1M2bCx_6g0p"
      },
      "source": [
        "<a name=\"number\"></a>\n",
        "# 3. number"
      ]
    },
    {
      "cell_type": "code",
      "metadata": {
        "id": "ejcZgiz16g0p",
        "outputId": "fafec59c-16dc-47f7-8a9b-40a40195f4e1"
      },
      "source": [
        "print(5 + 10)\n",
        "print(5 - 10)\n",
        "print(5 * 10)\n",
        "print(5 / 10)\n",
        "print(2 ** 10)\n",
        "print(5 + 3*2)\n",
        "print(5 + 3 * 4 ** 2)\n",
        "print(0.1 + 0.1)\n",
        "print(0.2 + 0.1)\n",
        "print(3 * 0.1)"
      ],
      "execution_count": null,
      "outputs": [
        {
          "output_type": "stream",
          "text": [
            "15\n",
            "-5\n",
            "50\n",
            "0.5\n",
            "1024\n",
            "11\n",
            "53\n",
            "0.2\n",
            "0.30000000000000004\n",
            "0.30000000000000004\n"
          ],
          "name": "stdout"
        }
      ]
    },
    {
      "cell_type": "code",
      "metadata": {
        "id": "EJ8DIEON6g0q",
        "outputId": "321b92c5-8645-411f-f786-cf25105d4f88"
      },
      "source": [
        "age = 23\n",
        "print(\"Happy \" + str(age) + \"rd Birthday!\")"
      ],
      "execution_count": null,
      "outputs": [
        {
          "output_type": "stream",
          "text": [
            "Happy 23rd Birthday!\n"
          ],
          "name": "stdout"
        }
      ]
    },
    {
      "cell_type": "markdown",
      "metadata": {
        "id": "QswQcfxW6g0q"
      },
      "source": [
        "<a name=\"comments\"></a>\n",
        "# 4. Comments"
      ]
    },
    {
      "cell_type": "code",
      "metadata": {
        "id": "APlBfkxQ6g0r",
        "outputId": "afa43f68-a015-4f28-8848-ca04f22ec212"
      },
      "source": [
        "# Comment\n",
        "print(\"No Idea\") # This is a comment too"
      ],
      "execution_count": null,
      "outputs": [
        {
          "output_type": "stream",
          "text": [
            "No Idea\n"
          ],
          "name": "stdout"
        }
      ]
    },
    {
      "cell_type": "code",
      "metadata": {
        "id": "WCgfhwVh6g0r",
        "outputId": "e382374f-91fb-4075-fb33-a163e26da4a6"
      },
      "source": [
        "import this"
      ],
      "execution_count": null,
      "outputs": [
        {
          "output_type": "stream",
          "text": [
            "The Zen of Python, by Tim Peters\n",
            "\n",
            "Beautiful is better than ugly.\n",
            "Explicit is better than implicit.\n",
            "Simple is better than complex.\n",
            "Complex is better than complicated.\n",
            "Flat is better than nested.\n",
            "Sparse is better than dense.\n",
            "Readability counts.\n",
            "Special cases aren't special enough to break the rules.\n",
            "Although practicality beats purity.\n",
            "Errors should never pass silently.\n",
            "Unless explicitly silenced.\n",
            "In the face of ambiguity, refuse the temptation to guess.\n",
            "There should be one-- and preferably only one --obvious way to do it.\n",
            "Although that way may not be obvious at first unless you're Dutch.\n",
            "Now is better than never.\n",
            "Although never is often better than *right* now.\n",
            "If the implementation is hard to explain, it's a bad idea.\n",
            "If the implementation is easy to explain, it may be a good idea.\n",
            "Namespaces are one honking great idea -- let's do more of those!\n"
          ],
          "name": "stdout"
        }
      ]
    },
    {
      "cell_type": "markdown",
      "metadata": {
        "id": "C-TPNCO-6g0s"
      },
      "source": [
        "<a name=\"lists\"></a>\n",
        "# 5. lists\n",
        "\n",
        "A list is a collection of items in a particular order."
      ]
    },
    {
      "cell_type": "code",
      "metadata": {
        "id": "sc14UQdA6g0s",
        "outputId": "0aac37d3-556a-45ab-8cf8-aba4ebecdeef"
      },
      "source": [
        "bicylces = ['trek', 'cannondale', 'redline', 'specialized']\n",
        "print(bicylces)\n",
        "print(bicylces[0])\n",
        "print(bicylces[0].title())\n",
        "print(bicylces[-1])\n"
      ],
      "execution_count": null,
      "outputs": [
        {
          "output_type": "stream",
          "text": [
            "['trek', 'cannondale', 'redline', 'specialized']\n",
            "trek\n",
            "Trek\n",
            "specialized\n"
          ],
          "name": "stdout"
        }
      ]
    },
    {
      "cell_type": "markdown",
      "metadata": {
        "id": "0zwAfeNO6g0t"
      },
      "source": [
        "**Changing, Adding, and Removing Elements**"
      ]
    },
    {
      "cell_type": "code",
      "metadata": {
        "id": "iQSwT73j6g0t",
        "outputId": "3dbe65a4-ca17-4014-fd64-d2b07e419fde"
      },
      "source": [
        "# changing\n",
        "print(bicylces)\n",
        "bicylces[0] = 'Big'\n",
        "print(bicylces)\n",
        "bicylces.append('Pendulum')\n",
        "print(bicylces)"
      ],
      "execution_count": null,
      "outputs": [
        {
          "output_type": "stream",
          "text": [
            "['trek', 'cannondale', 'redline', 'specialized']\n",
            "['Big', 'cannondale', 'redline', 'specialized']\n",
            "['Big', 'cannondale', 'redline', 'specialized', 'Pendulum']\n"
          ],
          "name": "stdout"
        }
      ]
    },
    {
      "cell_type": "code",
      "metadata": {
        "id": "FvmKzlPh6g0t",
        "outputId": "4a3b96b3-975b-4904-8184-562f187114d5"
      },
      "source": [
        "# adding\n",
        "motorcycles = []\n",
        "motorcycles.append('honda')\n",
        "motorcycles.append('yamaha')\n",
        "motorcycles.append('suzuki')\n",
        "print(motorcycles)"
      ],
      "execution_count": null,
      "outputs": [
        {
          "output_type": "stream",
          "text": [
            "['honda', 'yamaha', 'suzuki']\n"
          ],
          "name": "stdout"
        }
      ]
    },
    {
      "cell_type": "code",
      "metadata": {
        "id": "Rhdw_toD6g0u",
        "outputId": "a3b0efb2-a3ba-4972-a4af-6760cc7406ef"
      },
      "source": [
        "# inserting\n",
        "motorcycles.insert(0, 'ducati')\n",
        "print(motorcycles)\n",
        "motorcycles.insert(1, 'Aspartan')\n",
        "print(motorcycles)"
      ],
      "execution_count": null,
      "outputs": [
        {
          "output_type": "stream",
          "text": [
            "['ducati', 'honda', 'yamaha', 'suzuki']\n",
            "['ducati', 'Aspartan', 'honda', 'yamaha', 'suzuki']\n"
          ],
          "name": "stdout"
        }
      ]
    },
    {
      "cell_type": "code",
      "metadata": {
        "id": "pQBCjJFS6g0v",
        "outputId": "47edda53-9852-44ff-e82f-a7068e7fe16e"
      },
      "source": [
        "# removing\n",
        "motorcycles = ['honda', 'yamaha', 'suzuki']\n",
        "print(motorcycles)\n",
        "del motorcycles[0]\n",
        "print(motorcycles)\n",
        "del motorcycles[1]\n",
        "print(motorcycles)"
      ],
      "execution_count": null,
      "outputs": [
        {
          "output_type": "stream",
          "text": [
            "['honda', 'yamaha', 'suzuki']\n",
            "['yamaha', 'suzuki']\n",
            "['yamaha']\n"
          ],
          "name": "stdout"
        }
      ]
    },
    {
      "cell_type": "code",
      "metadata": {
        "id": "iIZwsNMH6g0v",
        "outputId": "3b1cef0f-7509-4ccd-93dd-1525ab85df35"
      },
      "source": [
        "# Removing last item\n",
        "motorcycles = ['honda', 'yamaha', 'suzuki']\n",
        "print(motorcycles)\n",
        "popped_motorcycle = motorcycles.pop()\n",
        "print(motorcycles)\n",
        "print(popped_motorcycle)"
      ],
      "execution_count": null,
      "outputs": [
        {
          "output_type": "stream",
          "text": [
            "['honda', 'yamaha', 'suzuki']\n",
            "['honda', 'yamaha']\n",
            "suzuki\n"
          ],
          "name": "stdout"
        }
      ]
    },
    {
      "cell_type": "code",
      "metadata": {
        "id": "K6S-rGX06g0w",
        "outputId": "51e2e38e-042a-4772-92f7-54cc9ca3caa9"
      },
      "source": [
        "# Removing an Item by Value\n",
        "motorcycles = ['honda', 'yamaha', 'suzuki', 'ducati']\n",
        "print(motorcycles)\n",
        "motorcycles.remove('ducati')\n",
        "print(motorcycles)"
      ],
      "execution_count": null,
      "outputs": [
        {
          "output_type": "stream",
          "text": [
            "['honda', 'yamaha', 'suzuki', 'ducati']\n",
            "['honda', 'yamaha', 'suzuki']\n"
          ],
          "name": "stdout"
        }
      ]
    },
    {
      "cell_type": "markdown",
      "metadata": {
        "id": "kOEyaM2E6g0w"
      },
      "source": [
        "**Orgainizing a List**"
      ]
    },
    {
      "cell_type": "code",
      "metadata": {
        "id": "UXjoiKyS6g0x",
        "outputId": "f1a1b46e-17c9-4ac3-ef2f-46561466f7f2"
      },
      "source": [
        "cars = ['bmw', 'audi', 'toyota', 'subaru']\n",
        "cars.sort()\n",
        "print(cars)\n",
        "cars.sort(reverse=True)\n",
        "print(cars)"
      ],
      "execution_count": null,
      "outputs": [
        {
          "output_type": "stream",
          "text": [
            "['audi', 'bmw', 'subaru', 'toyota']\n",
            "['toyota', 'subaru', 'bmw', 'audi']\n"
          ],
          "name": "stdout"
        }
      ]
    },
    {
      "cell_type": "code",
      "metadata": {
        "id": "5V36496B6g0x",
        "outputId": "79198dfa-758d-4180-aec8-d57ad30a9ea8"
      },
      "source": [
        "cars = ['bmw', 'audi', 'toyota', 'subaru']\n",
        "print(\"Here is the original list:\")\n",
        "print(cars)\n",
        "print(\"\\nHere is the sorted list:\")\n",
        "print(sorted(cars))\n",
        "print(\"\\nHere is the original list again:\")\n",
        "print(cars)"
      ],
      "execution_count": null,
      "outputs": [
        {
          "output_type": "stream",
          "text": [
            "Here is the original list:\n",
            "['bmw', 'audi', 'toyota', 'subaru']\n",
            "\n",
            "Here is the sorted list:\n",
            "['audi', 'bmw', 'subaru', 'toyota']\n",
            "\n",
            "Here is the original list again:\n",
            "['bmw', 'audi', 'toyota', 'subaru']\n"
          ],
          "name": "stdout"
        }
      ]
    },
    {
      "cell_type": "code",
      "metadata": {
        "id": "hMa8Mf_w6g0y",
        "outputId": "7b16bf2b-4f4f-401d-fa74-048ac9662138"
      },
      "source": [
        "# Printing a list in reverse order\n",
        "cars = ['bmw', 'audi', 'toyota', 'subaru']\n",
        "print(cars)\n",
        "cars.reverse()\n",
        "print(cars)\n",
        "cars.reverse()\n",
        "print(cars)"
      ],
      "execution_count": null,
      "outputs": [
        {
          "output_type": "stream",
          "text": [
            "['bmw', 'audi', 'toyota', 'subaru']\n",
            "['subaru', 'toyota', 'audi', 'bmw']\n",
            "['bmw', 'audi', 'toyota', 'subaru']\n"
          ],
          "name": "stdout"
        }
      ]
    },
    {
      "cell_type": "code",
      "metadata": {
        "id": "G5y3YXJW6g0z",
        "outputId": "873e955a-be69-4939-8416-fcb0653efce9"
      },
      "source": [
        "# Looping through an entire list\n",
        "magicians = ['alice', 'david', 'carolina']\n",
        "for magician in magicians:\n",
        "    print(magician.title())"
      ],
      "execution_count": null,
      "outputs": [
        {
          "output_type": "stream",
          "text": [
            "Alice\n",
            "David\n",
            "Carolina\n"
          ],
          "name": "stdout"
        }
      ]
    },
    {
      "cell_type": "markdown",
      "metadata": {
        "id": "cprk4hPh6g00"
      },
      "source": [
        "**Making numerical List**"
      ]
    },
    {
      "cell_type": "code",
      "metadata": {
        "id": "thwhb78u6g00",
        "outputId": "e4031321-1613-4599-ba86-67eb2ac64c0d"
      },
      "source": [
        "# range()\n",
        "for value in range(1, 5):\n",
        "    print(value)"
      ],
      "execution_count": null,
      "outputs": [
        {
          "output_type": "stream",
          "text": [
            "1\n",
            "2\n",
            "3\n",
            "4\n"
          ],
          "name": "stdout"
        }
      ]
    },
    {
      "cell_type": "code",
      "metadata": {
        "id": "H_8l1C1D6g01",
        "outputId": "a55c464f-13ff-45ab-bced-3278820236df"
      },
      "source": [
        "numbers = list(range(1, 6))\n",
        "print(numbers)"
      ],
      "execution_count": null,
      "outputs": [
        {
          "output_type": "stream",
          "text": [
            "[1, 2, 3, 4, 5]\n"
          ],
          "name": "stdout"
        }
      ]
    },
    {
      "cell_type": "code",
      "metadata": {
        "id": "ccswUqyY6g02",
        "outputId": "13089270-f8aa-4ed4-b59c-cb1da4b1e9eb"
      },
      "source": [
        "squares = []\n",
        "for value in range(1, 11):\n",
        "    square = value**2\n",
        "    squares.append(square)\n",
        "    \n",
        "print(squares)"
      ],
      "execution_count": null,
      "outputs": [
        {
          "output_type": "stream",
          "text": [
            "[1, 4, 9, 16, 25, 36, 49, 64, 81, 100]\n"
          ],
          "name": "stdout"
        }
      ]
    },
    {
      "cell_type": "code",
      "metadata": {
        "id": "irxBwJTF6g02",
        "outputId": "04066f79-6fe3-4bae-e826-34fce2d8f90f"
      },
      "source": [
        "digits = [1, 2, 3, 4, 5, 6, 7, 8, 9, 0]\n",
        "print(min(digits))\n",
        "print(max(digits))\n",
        "print(sum(digits))"
      ],
      "execution_count": null,
      "outputs": [
        {
          "output_type": "stream",
          "text": [
            "0\n",
            "9\n",
            "45\n"
          ],
          "name": "stdout"
        }
      ]
    },
    {
      "cell_type": "code",
      "metadata": {
        "id": "yozkxdaP6g03",
        "outputId": "4373d9e7-50a9-4b67-f60a-3b087815fe5b"
      },
      "source": [
        "squares = [value**2 for value in range(1, 11)]\n",
        "print(squares)"
      ],
      "execution_count": null,
      "outputs": [
        {
          "output_type": "stream",
          "text": [
            "[1, 4, 9, 16, 25, 36, 49, 64, 81, 100]\n"
          ],
          "name": "stdout"
        }
      ]
    },
    {
      "cell_type": "markdown",
      "metadata": {
        "id": "WnxSNhLl6g04"
      },
      "source": [
        "**Working with part of a list**"
      ]
    },
    {
      "cell_type": "code",
      "metadata": {
        "id": "9TPyI9ei6g04",
        "outputId": "f5456d72-4128-42f1-f4a8-9008587221a3"
      },
      "source": [
        "# Slicing a List\n",
        "players = ['charles', 'martina', 'michael', 'florence', 'eli']\n",
        "print(players[0:3])\n",
        "print(players[-3:])"
      ],
      "execution_count": null,
      "outputs": [
        {
          "output_type": "stream",
          "text": [
            "['charles', 'martina', 'michael']\n",
            "['michael', 'florence', 'eli']\n"
          ],
          "name": "stdout"
        }
      ]
    },
    {
      "cell_type": "code",
      "metadata": {
        "id": "JPqGdyIE6g05",
        "outputId": "3d61b8b1-641a-4513-e25c-eeba1b406981"
      },
      "source": [
        "characters = players.copy()\n",
        "characters.append('bob')\n",
        "print(players)\n",
        "print(characters)"
      ],
      "execution_count": null,
      "outputs": [
        {
          "output_type": "stream",
          "text": [
            "['charles', 'martina', 'michael', 'florence', 'eli']\n",
            "['charles', 'martina', 'michael', 'florence', 'eli', 'bob']\n"
          ],
          "name": "stdout"
        }
      ]
    },
    {
      "cell_type": "markdown",
      "metadata": {
        "id": "CgMqO1x-6g06"
      },
      "source": [
        "<a name=\"tuple\"></a>\n",
        "# 6. Tuple"
      ]
    },
    {
      "cell_type": "code",
      "metadata": {
        "id": "FGt16wH96g06",
        "outputId": "4ec45b38-2c46-46b9-c578-3bef0c2284bf"
      },
      "source": [
        "dimensions = (200, 50)\n",
        "print(dimensions[0])\n",
        "print(dimensions[1])"
      ],
      "execution_count": null,
      "outputs": [
        {
          "output_type": "stream",
          "text": [
            "200\n",
            "50\n"
          ],
          "name": "stdout"
        }
      ]
    },
    {
      "cell_type": "code",
      "metadata": {
        "id": "KldNJQEF6g06",
        "outputId": "25d08a20-6340-4d65-839e-37ef00731f7c"
      },
      "source": [
        "dimensions = (200, 50)\n",
        "for dimension in dimensions:\n",
        "    print(dimension)"
      ],
      "execution_count": null,
      "outputs": [
        {
          "output_type": "stream",
          "text": [
            "200\n",
            "50\n"
          ],
          "name": "stdout"
        }
      ]
    },
    {
      "cell_type": "markdown",
      "metadata": {
        "id": "zTJ8myin6g07"
      },
      "source": [
        "<a name=\"conditions\"></a>\n",
        "# 7. Conditions"
      ]
    },
    {
      "cell_type": "code",
      "metadata": {
        "id": "GftL7JP16g07",
        "outputId": "78a78e06-0fac-499c-fcc6-f8e84ade08c9"
      },
      "source": [
        "cars = ['audi', 'bmw', 'subaru', 'toyota']\n",
        "for car in cars:\n",
        "    if car == 'bmw':\n",
        "        print(car.upper())\n",
        "    else:\n",
        "        print(car.title())"
      ],
      "execution_count": null,
      "outputs": [
        {
          "output_type": "stream",
          "text": [
            "Audi\n",
            "BMW\n",
            "Subaru\n",
            "Toyota\n"
          ],
          "name": "stdout"
        }
      ]
    },
    {
      "cell_type": "code",
      "metadata": {
        "id": "QKyLzwPz6g08",
        "outputId": "91e58f1a-a354-4a0f-91da-7c8030a69500"
      },
      "source": [
        "requested_toppings = ['mushrooms', 'onions', 'pineapple']\n",
        "print('mushrooms' in requested_toppings)\n",
        "print('pepperoni' in requested_toppings)\n"
      ],
      "execution_count": null,
      "outputs": [
        {
          "output_type": "stream",
          "text": [
            "True\n",
            "False\n"
          ],
          "name": "stdout"
        }
      ]
    },
    {
      "cell_type": "code",
      "metadata": {
        "id": "ulrQxVLr6g08",
        "outputId": "37effe94-f43a-461c-a3c5-8f9696c7d48a"
      },
      "source": [
        "age = 12\n",
        "\n",
        "if age < 4:\n",
        "    price = 0\n",
        "elif age < 18:\n",
        "    price = 5\n",
        "elif age < 65:\n",
        "    price = 10\n",
        "elif age >= 65:\n",
        "    price = 5\n",
        "\n",
        "print(\"Your admission cost is $\" + str(price) + \".\")"
      ],
      "execution_count": null,
      "outputs": [
        {
          "output_type": "stream",
          "text": [
            "Your admission cost is $5.\n"
          ],
          "name": "stdout"
        }
      ]
    },
    {
      "cell_type": "code",
      "metadata": {
        "id": "hs8Bb63v6g09",
        "outputId": "5164f8f1-f4a9-4bac-df95-0c6226cda422"
      },
      "source": [
        "available_toppings = ['mushrooms', 'olives', 'green peppers', 'pepperoni', 'pineapple', 'extra cheese']\n",
        "requested_toppings = ['mushrooms', 'french fries', 'extra cheese']\n",
        "for requested_topping in requested_toppings:\n",
        "    if requested_topping in available_toppings:\n",
        "        print(\"Adding \" + requested_topping + \".\")\n",
        "    else:\n",
        "        print(\"Sorry, we don't have \" + requested_topping + \".\")\n",
        "print(\"\\nFinished making your pizza!\")"
      ],
      "execution_count": null,
      "outputs": [
        {
          "output_type": "stream",
          "text": [
            "Adding mushrooms.\n",
            "Sorry, we don't have french fries.\n",
            "Adding extra cheese.\n",
            "\n",
            "Finished making your pizza!\n"
          ],
          "name": "stdout"
        }
      ]
    },
    {
      "cell_type": "markdown",
      "metadata": {
        "id": "_DOPahMT6g0-"
      },
      "source": [
        "if age < 4:\n",
        "\n",
        "is better than:\n",
        "\n",
        "if age<4:"
      ]
    },
    {
      "cell_type": "markdown",
      "metadata": {
        "id": "ibeLzlDS6g0-"
      },
      "source": [
        "<a name=\"dictionary\"></a>\n",
        "# 8. Dictionary"
      ]
    },
    {
      "cell_type": "code",
      "metadata": {
        "id": "SziMh70u6g0-",
        "outputId": "ff963f76-0a1f-4962-af3c-5396b6d2559a"
      },
      "source": [
        "# create and access dictionary\n",
        "alien_0 = {}\n",
        "alien_0['color'] = 'green'\n",
        "alien_0['points'] = 5\n",
        "\n",
        "print(alien_0['color'])\n",
        "print(alien_0['points'])"
      ],
      "execution_count": null,
      "outputs": [
        {
          "output_type": "stream",
          "text": [
            "green\n",
            "5\n"
          ],
          "name": "stdout"
        }
      ]
    },
    {
      "cell_type": "code",
      "metadata": {
        "id": "VGK4JURI6g0_",
        "outputId": "5c56bbae-cff0-4584-d30e-8ab66637300e"
      },
      "source": [
        "# add key-value in dictionary\n",
        "print(alien_0)\n",
        "\n",
        "alien_0['x_position'] = 0\n",
        "alien_0['y_position'] = 25\n",
        "\n",
        "print(alien_0)"
      ],
      "execution_count": null,
      "outputs": [
        {
          "output_type": "stream",
          "text": [
            "{'color': 'green', 'points': 5}\n",
            "{'color': 'green', 'points': 5, 'x_position': 0, 'y_position': 25}\n"
          ],
          "name": "stdout"
        }
      ]
    },
    {
      "cell_type": "code",
      "metadata": {
        "id": "wBxEqSS56g0_",
        "outputId": "b6b4ef3a-c78d-4633-8e95-6a54714c0f9d"
      },
      "source": [
        "# Modifying values in a dictionary\n",
        "alien_0 = {'color': 'green'}\n",
        "print(\"The alien is \" + alien_0['color'] + \".\")\n",
        "alien_0['color'] = 'yellow'\n",
        "print(\"The alien is now \" + alien_0['color'] + \".\")"
      ],
      "execution_count": null,
      "outputs": [
        {
          "output_type": "stream",
          "text": [
            "The alien is green.\n",
            "The alien is now yellow.\n"
          ],
          "name": "stdout"
        }
      ]
    },
    {
      "cell_type": "code",
      "metadata": {
        "id": "KYHpN7Co6g1A",
        "outputId": "0f171aa7-80ba-4a93-f6e4-6208acc80347"
      },
      "source": [
        "# Track the position of an alien that can move at different speeds.\n",
        "alien_0 = {'x_position' : 0,\n",
        "          'y_position' : 25,\n",
        "          'speed' : 'fast'}\n",
        "print(\"Original x-position: \" + str(alien_0['x_position']))\n",
        "\n",
        "# Move the alien to the right.\n",
        "# Derermine how far to move the alien based on its current speed.\n",
        "\n",
        "if alien_0['speed'] == 'slow':\n",
        "    x_increment = 1\n",
        "elif alien_0['speed'] == 'medium':\n",
        "    x_increment = 2\n",
        "else:\n",
        "    # This must be a fast alien\n",
        "    x_increment = 3\n",
        "    \n",
        "alien_0['x_position'] = alien_0['x_position'] + x_increment\n",
        "print(\"New x-position: \" + str(alien_0['x_position']))\n"
      ],
      "execution_count": null,
      "outputs": [
        {
          "output_type": "stream",
          "text": [
            "Original x-position: 0\n",
            "New x-position: 3\n"
          ],
          "name": "stdout"
        }
      ]
    },
    {
      "cell_type": "code",
      "metadata": {
        "id": "3HSxJe6w6g1B",
        "outputId": "406a1adb-19a8-4ab0-82a1-0adfd7028b91"
      },
      "source": [
        "# removing key-value pairs\n",
        "alien_0 = {'color':'green', 'points':5}\n",
        "print(alien_0)\n",
        "\n",
        "del alien_0['points']\n",
        "print(alien_0)"
      ],
      "execution_count": null,
      "outputs": [
        {
          "output_type": "stream",
          "text": [
            "{'color': 'green', 'points': 5}\n",
            "{'color': 'green'}\n"
          ],
          "name": "stdout"
        }
      ]
    },
    {
      "cell_type": "code",
      "metadata": {
        "id": "Cr08UoKn6g1C",
        "outputId": "368a8dd2-03dc-4f9b-8013-3cb5c692ccb5"
      },
      "source": [
        "# Looping through all key-value pairs\n",
        "\n",
        "user_0 = {\n",
        "    'username' : 'efermi',\n",
        "    'first' : 'enrico',\n",
        "    'last' : 'fermi'\n",
        "}\n",
        "for key, value in user_0.items():\n",
        "    print(\"\\nKey: \" + key)\n",
        "    print(\"Value: \" + value)"
      ],
      "execution_count": null,
      "outputs": [
        {
          "output_type": "stream",
          "text": [
            "\n",
            "Key: username\n",
            "Value: efermi\n",
            "\n",
            "Key: first\n",
            "Value: enrico\n",
            "\n",
            "Key: last\n",
            "Value: fermi\n"
          ],
          "name": "stdout"
        }
      ]
    },
    {
      "cell_type": "code",
      "metadata": {
        "id": "iiZFWfWs6g1C",
        "outputId": "84eadcb6-cc5a-4a69-bdbf-16bdcaf59764"
      },
      "source": [
        "favorite_languages = {\n",
        "'jen': 'python',\n",
        "'sarah': 'c',\n",
        "'edward': 'ruby',\n",
        "'phil': 'python',\n",
        "}\n",
        "friends = ['phil', 'sarah']\n",
        "for name in favorite_languages.keys():\n",
        "#     print(name.title())\n",
        "    if name in friends:\n",
        "        print(\" Hi \" + name.title() +\n",
        "              \", I see your favorite language is \" +\n",
        "              favorite_languages[name].title() + \"!\")"
      ],
      "execution_count": null,
      "outputs": [
        {
          "output_type": "stream",
          "text": [
            " Hi Sarah, I see your favorite language is C!\n",
            " Hi Phil, I see your favorite language is Python!\n"
          ],
          "name": "stdout"
        }
      ]
    },
    {
      "cell_type": "code",
      "metadata": {
        "id": "pihS4DAx6g1D",
        "outputId": "9fa021a9-823c-4949-d940-72a1b72a3593"
      },
      "source": [
        "favorite_languages = {\n",
        "'jen': 'python',\n",
        "'sarah': 'c',\n",
        "'edward': 'ruby',\n",
        "'phil': 'python',\n",
        "}\n",
        "for name in sorted(favorite_languages.keys()):\n",
        "    print(name.title() + \", thank you for taking the poll.\")"
      ],
      "execution_count": null,
      "outputs": [
        {
          "output_type": "stream",
          "text": [
            "Edward, thank you for taking the poll.\n",
            "Jen, thank you for taking the poll.\n",
            "Phil, thank you for taking the poll.\n",
            "Sarah, thank you for taking the poll.\n"
          ],
          "name": "stdout"
        }
      ]
    },
    {
      "cell_type": "code",
      "metadata": {
        "id": "PQSL5mnu6g1D",
        "outputId": "379268d7-18ef-43c7-808a-43e2d74b6ec5"
      },
      "source": [
        "# A list of Dictionary\n",
        "alien_0 = {'color': 'green', 'points': 5}\n",
        "alien_1 = {'color': 'yellow', 'points': 10}\n",
        "alien_2 = {'color': 'red', 'points': 15}\n",
        "\n",
        "aliens = [alien_0, alien_1, alien_2]\n",
        "\n",
        "for alien in aliens:\n",
        "    print(alien)"
      ],
      "execution_count": null,
      "outputs": [
        {
          "output_type": "stream",
          "text": [
            "{'color': 'green', 'points': 5}\n",
            "{'color': 'yellow', 'points': 10}\n",
            "{'color': 'red', 'points': 15}\n"
          ],
          "name": "stdout"
        }
      ]
    },
    {
      "cell_type": "code",
      "metadata": {
        "id": "2RLU11Eh6g1E",
        "outputId": "094e9606-d0cb-4287-bd06-22af7cdb9884"
      },
      "source": [
        "# Make an empty list for storing aliens.\n",
        "aliens = []\n",
        "\n",
        "# Make 30 green alines.\n",
        "\n",
        "for alien_number in range(30):\n",
        "    new_alien = {'color':'green', 'points':5, 'speed':'slow'}\n",
        "    aliens.append(new_alien)\n",
        "    \n",
        "\n",
        "# Show the first 5 aliens\n",
        "for alien in aliens[:5]:\n",
        "    print(alien)\n",
        "print(\"....\")\n",
        "\n",
        "# Show how many aliens have been created.\n",
        "print(\"Total number of aliens: \" + str(len(aliens)))"
      ],
      "execution_count": null,
      "outputs": [
        {
          "output_type": "stream",
          "text": [
            "{'color': 'green', 'points': 5, 'speed': 'slow'}\n",
            "{'color': 'green', 'points': 5, 'speed': 'slow'}\n",
            "{'color': 'green', 'points': 5, 'speed': 'slow'}\n",
            "{'color': 'green', 'points': 5, 'speed': 'slow'}\n",
            "{'color': 'green', 'points': 5, 'speed': 'slow'}\n",
            "....\n",
            "Total number of aliens: 30\n"
          ],
          "name": "stdout"
        }
      ]
    },
    {
      "cell_type": "code",
      "metadata": {
        "id": "1wA8UDcp6g1F",
        "outputId": "f0d07e5b-305d-4e46-de95-4d30c38d262a"
      },
      "source": [
        "# A list in Dictionary\n",
        "\n",
        "pizza = {\n",
        "    'crust':'thick',\n",
        "    'toppings':['mushrooms', 'extra cheese'],\n",
        "}\n",
        "\n",
        "# Summarize the order\n",
        "print('You ordered a ' + pizza['crust'] + \"-crust pizza \" +\n",
        "     \"with the following toppings:\")\n",
        "\n",
        "for topping in pizza['toppings']:\n",
        "    print(\"\\t\" + topping)"
      ],
      "execution_count": null,
      "outputs": [
        {
          "output_type": "stream",
          "text": [
            "You ordered a thick-crust pizza with the following toppings:\n",
            "\tmushrooms\n",
            "\textra cheese\n"
          ],
          "name": "stdout"
        }
      ]
    },
    {
      "cell_type": "code",
      "metadata": {
        "id": "hiIKbO2Z6g1G",
        "outputId": "41c38327-9969-452d-d1df-92fb64cd923c"
      },
      "source": [
        "# A dictionary in a dictionary\n",
        "\n",
        "users = {\n",
        "    'aeinstein': {\n",
        "        'first': 'albert',\n",
        "        'last': 'einstein',\n",
        "        'location':'princeton'\n",
        "    },\n",
        "    'mcurie':{\n",
        "        'first': 'marie',\n",
        "        'last': 'curie',\n",
        "        'location':'paris'\n",
        "    }\n",
        "}\n",
        "\n",
        "for username, user_info in users.items():\n",
        "    print(\"\\nUsername: \" + username)\n",
        "    full_name = user_info['first'] + user_info['last']\n",
        "    location = user_info['location']\n",
        "    \n",
        "    print(\"\\tFull name: \" + full_name.title())\n",
        "    print(\"\\tLocation: \" + location.title())"
      ],
      "execution_count": null,
      "outputs": [
        {
          "output_type": "stream",
          "text": [
            "\n",
            "Username: aeinstein\n",
            "\tFull name: Alberteinstein\n",
            "\tLocation: Princeton\n",
            "\n",
            "Username: mcurie\n",
            "\tFull name: Mariecurie\n",
            "\tLocation: Paris\n"
          ],
          "name": "stdout"
        }
      ]
    },
    {
      "cell_type": "markdown",
      "metadata": {
        "id": "msdou2jC6g1H"
      },
      "source": [
        "<a name=\"input\"></a>\n",
        "# 9. input"
      ]
    },
    {
      "cell_type": "code",
      "metadata": {
        "id": "7gkk4lmA6g1H",
        "outputId": "99ccb878-66e5-46f0-a617-343f16a55557"
      },
      "source": [
        "message = input(\"Tell me something, and I will repeat back to you:\")\n",
        "print(message)\n",
        "\n",
        "age = input(\"How tall are you, in inches? \")\n",
        "age = int(age)\n",
        "age >= 17"
      ],
      "execution_count": null,
      "outputs": [
        {
          "output_type": "stream",
          "text": [
            "Tell me something, and I will repeat back to you:Yes Yes\n",
            "Yes Yes\n",
            "How tall are you, in inches? 32\n"
          ],
          "name": "stdout"
        },
        {
          "output_type": "execute_result",
          "data": {
            "text/plain": [
              "True"
            ]
          },
          "metadata": {
            "tags": []
          },
          "execution_count": 1
        }
      ]
    },
    {
      "cell_type": "markdown",
      "metadata": {
        "id": "v9Db_Gfa6g1I"
      },
      "source": [
        "<a name=\"while\"></a>\n",
        "# 10. while"
      ]
    },
    {
      "cell_type": "code",
      "metadata": {
        "id": "kOBQLSu26g1K",
        "outputId": "2d36efc1-144d-4888-fc9e-3a1cfa8619a5"
      },
      "source": [
        "current_number = 1\n",
        "while current_number <= 5:\n",
        "    print(current_number)\n",
        "    current_number += 1"
      ],
      "execution_count": null,
      "outputs": [
        {
          "output_type": "stream",
          "text": [
            "1\n",
            "2\n",
            "3\n",
            "4\n",
            "5\n"
          ],
          "name": "stdout"
        }
      ]
    },
    {
      "cell_type": "code",
      "metadata": {
        "id": "k9CEECl26g1K",
        "outputId": "6d34efd1-a5dd-4267-9c2c-a6a220aba997"
      },
      "source": [
        "prompt = \"\\nTell me something, and I will repeat it back to you:\"\n",
        "prompt += \"\\nEnter 'quit' to end the program. \"\n",
        "\n",
        "message = \"\"\n",
        "active = True\n",
        "while active:\n",
        "    message = input(prompt)\n",
        "    if message == \"quit\":\n",
        "        active = False\n",
        "    elif message == \"stop\":\n",
        "        break\n",
        "    else:    \n",
        "        print(message)\n",
        "        "
      ],
      "execution_count": null,
      "outputs": [
        {
          "output_type": "stream",
          "text": [
            "\n",
            "Tell me something, and I will repeat it back to you:\n",
            "Enter 'quit' to end the program. stop\n"
          ],
          "name": "stdout"
        }
      ]
    },
    {
      "cell_type": "code",
      "metadata": {
        "id": "3GBJawNz6g1L",
        "outputId": "9d1dd481-29e5-41ff-be76-598a63272b95"
      },
      "source": [
        "current_number = 0\n",
        "while current_number < 10:\n",
        "    current_number += 1\n",
        "    if current_number %2 == 0:\n",
        "        continue\n",
        "        \n",
        "    print(current_number)"
      ],
      "execution_count": null,
      "outputs": [
        {
          "output_type": "stream",
          "text": [
            "1\n",
            "3\n",
            "5\n",
            "7\n",
            "9\n"
          ],
          "name": "stdout"
        }
      ]
    },
    {
      "cell_type": "markdown",
      "metadata": {
        "id": "DCZhqYOS6g1L"
      },
      "source": [
        "### Moving Items from One list to another"
      ]
    },
    {
      "cell_type": "code",
      "metadata": {
        "id": "_zwGLUdD6g1M",
        "outputId": "eb3de913-643e-4717-cf20-9b287fc76049"
      },
      "source": [
        "# Start with users that need to be verified,\n",
        "# and an empty list to hold confirmed users.\n",
        "\n",
        "unconfirmed_users = ['alice', 'brian', 'candace']\n",
        "confirmed_users = []\n",
        "\n",
        "# Verifiy each user until there are no more unconfirmed users.\n",
        "# Move each verified user into the list of confirmed users.\n",
        "\n",
        "while unconfirmed_users:\n",
        "    current_user = unconfirmed_users.pop()\n",
        "\n",
        "    print(\"Verifying user: \" + current_user.title())\n",
        "    confirmed_users.append(current_user)\n",
        "    \n",
        "    # Display all confirmed users.\n",
        "    print(\"\\nThe following users have been confirmed\")\n",
        "    for confirmed_user in confirmed_users:\n",
        "        print(confirmed_user.title())"
      ],
      "execution_count": null,
      "outputs": [
        {
          "output_type": "stream",
          "text": [
            "Verifying user: Candace\n",
            "\n",
            "The following users have been confirmed\n",
            "Candace\n",
            "Verifying user: Brian\n",
            "\n",
            "The following users have been confirmed\n",
            "Candace\n",
            "Brian\n",
            "Verifying user: Alice\n",
            "\n",
            "The following users have been confirmed\n",
            "Candace\n",
            "Brian\n",
            "Alice\n"
          ],
          "name": "stdout"
        }
      ]
    },
    {
      "cell_type": "markdown",
      "metadata": {
        "id": "QuAiC1tT6g1N"
      },
      "source": [
        "### Removing All Instance of Specific Values from a List"
      ]
    },
    {
      "cell_type": "code",
      "metadata": {
        "id": "QKaIwvbl6g1N",
        "outputId": "b3dd8ce7-679f-4fc5-d11c-3561b6d5e076"
      },
      "source": [
        "pets = ['dog', 'cat', 'dog', 'goldfish', 'cat', 'rabbit', 'cat']\n",
        "print(pets)\n",
        "\n",
        "while 'cat' in pets:\n",
        "    pets.remove('cat')\n",
        "    \n",
        "print(pets)"
      ],
      "execution_count": null,
      "outputs": [
        {
          "output_type": "stream",
          "text": [
            "['dog', 'cat', 'dog', 'goldfish', 'cat', 'rabbit', 'cat']\n",
            "['dog', 'dog', 'goldfish', 'rabbit']\n"
          ],
          "name": "stdout"
        }
      ]
    },
    {
      "cell_type": "markdown",
      "metadata": {
        "id": "4Au1vDNq6g1N"
      },
      "source": [
        "<a name=\"function\"></a>\n",
        "\n",
        "# 11. function"
      ]
    },
    {
      "cell_type": "code",
      "metadata": {
        "id": "lc-mkrhA6g1O",
        "outputId": "f6116161-6882-4c05-9091-8f738b04319e"
      },
      "source": [
        "def greet_user():\n",
        "    \"\"\"Display a simple greeting.\"\"\"\n",
        "    print(\"Hello!\")\n",
        "    \n",
        "greet_user()"
      ],
      "execution_count": null,
      "outputs": [
        {
          "output_type": "stream",
          "text": [
            "Hello!\n"
          ],
          "name": "stdout"
        }
      ]
    },
    {
      "cell_type": "code",
      "metadata": {
        "id": "4L013lqn6g1O",
        "outputId": "c24d26fd-0eae-44b7-a581-7f4462da7c67"
      },
      "source": [
        "def describe_pet(animal_type, pet_name=\"boggie\"):\n",
        "    \"\"\"Display information about a pet.\"\"\"\n",
        "    print(\"\\nI have a \" + animal_type + \".\")\n",
        "    print(\"My \" + animal_type + \"'s name is \" + pet_name.title() + \".\")\n",
        "\n",
        "\n",
        "describe_pet(animal_type='hamster')\n",
        "describe_pet(pet_name='harry', animal_type='hamster')"
      ],
      "execution_count": null,
      "outputs": [
        {
          "output_type": "stream",
          "text": [
            "\n",
            "I have a hamster.\n",
            "My hamster's name is Boggie.\n",
            "\n",
            "I have a hamster.\n",
            "My hamster's name is Harry.\n"
          ],
          "name": "stdout"
        }
      ]
    },
    {
      "cell_type": "code",
      "metadata": {
        "id": "2sdIeMFM6g1P",
        "outputId": "67f9321d-3777-4f2f-dc98-c03d50fba56b"
      },
      "source": [
        "def get_formatted_name(first_name, last_name):\n",
        "    \"\"\"Return a full name, neatly formatted.\"\"\"\n",
        "    full_name = first_name + ' ' + last_name\n",
        "    return full_name.title()\n",
        "\n",
        "\n",
        "musician = get_formatted_name('jimi', 'hendrix')\n",
        "print(musician)"
      ],
      "execution_count": null,
      "outputs": [
        {
          "output_type": "stream",
          "text": [
            "Jimi Hendrix\n"
          ],
          "name": "stdout"
        }
      ]
    },
    {
      "cell_type": "code",
      "metadata": {
        "id": "fudVtayq6g1Q",
        "outputId": "d9d7526b-3a94-4ae4-99f1-c0741dd081d9"
      },
      "source": [
        "def make_pizza(*toppings):\n",
        "    \"\"\"Print the list of toppings that have been requested.\"\"\"\n",
        "    print(toppings)\n",
        "make_pizza('pepperoni')\n",
        "make_pizza('mushrooms', 'green peppers', 'extra cheese')"
      ],
      "execution_count": null,
      "outputs": [
        {
          "output_type": "stream",
          "text": [
            "('pepperoni',)\n",
            "('mushrooms', 'green peppers', 'extra cheese')\n"
          ],
          "name": "stdout"
        }
      ]
    },
    {
      "cell_type": "code",
      "metadata": {
        "id": "ii9d03546g1Q",
        "outputId": "16d70275-d007-47d9-84e0-50c573d079d2"
      },
      "source": [
        "def build_profile(first, last, **user_info):\n",
        "    \"\"\"Build a dictionary containing everything we know about a user.\"\"\"\n",
        "    profile = {}\n",
        "\n",
        "    profile['first_name'] = first\n",
        "    profile['last_name'] = last\n",
        "    for key, value in user_info.items():\n",
        "        profile[key] = value\n",
        "    \n",
        "    return profile\n",
        "\n",
        "user_profile = build_profile('albert', 'einstein',\n",
        "                             location='princeton',\n",
        "                             field='physics')\n",
        "print(user_profile)"
      ],
      "execution_count": null,
      "outputs": [
        {
          "output_type": "stream",
          "text": [
            "{'first_name': 'albert', 'last_name': 'einstein', 'location': 'princeton', 'field': 'physics'}\n"
          ],
          "name": "stdout"
        }
      ]
    },
    {
      "cell_type": "code",
      "metadata": {
        "id": "AIdpKhQJ6g1S"
      },
      "source": [
        "import pizza"
      ],
      "execution_count": null,
      "outputs": []
    },
    {
      "cell_type": "code",
      "metadata": {
        "id": "K7DB4VoQ6g1T",
        "outputId": "03a07c3e-d2ed-4772-ed80-97f0d0901fc6"
      },
      "source": [
        "pizza.make_pizza(16, 'pepperoni')\n",
        "\n",
        "pizza.make_pizza(12, 'mushrooms', 'green peppers', 'extra cheese')"
      ],
      "execution_count": null,
      "outputs": [
        {
          "output_type": "stream",
          "text": [
            "\n",
            "Making a 16-inch pizza with the following toppings:\n",
            "- pepperoni\n",
            "\n",
            "Making a 12-inch pizza with the following toppings:\n",
            "- mushrooms\n",
            "- green peppers\n",
            "- extra cheese\n"
          ],
          "name": "stdout"
        }
      ]
    },
    {
      "cell_type": "code",
      "metadata": {
        "id": "0--E8B9i6g1T",
        "outputId": "1cc16411-8a16-463b-e28f-7cbd76af4130"
      },
      "source": [
        "from pizza import make_pizza as mp\n",
        "mp(12, 'mushrooms', 'green peppers', 'extra cheese')"
      ],
      "execution_count": null,
      "outputs": [
        {
          "output_type": "stream",
          "text": [
            "\n",
            "Making a 12-inch pizza with the following toppings:\n",
            "- mushrooms\n",
            "- green peppers\n",
            "- extra cheese\n"
          ],
          "name": "stdout"
        }
      ]
    },
    {
      "cell_type": "markdown",
      "metadata": {
        "id": "U1QIihEZ6g1V"
      },
      "source": [
        "<a name=\"classes\"></a>\n",
        "# 12. Classes"
      ]
    },
    {
      "cell_type": "markdown",
      "metadata": {
        "id": "ynTXvwXj6g1V"
      },
      "source": [
        "<a name=\"12.1\"></a>\n",
        "### 12.1 Creating and Using a Class\n",
        "\n",
        "#### Creating the Dog Class"
      ]
    },
    {
      "cell_type": "code",
      "metadata": {
        "id": "Mku5g_B56g1W",
        "outputId": "f82b923e-17c4-4eea-92a0-64c091642f75"
      },
      "source": [
        "class Dog():\n",
        "    \"\"\"A simple attempt to model a dog\"\"\"\n",
        "    \n",
        "    def __init__(self, name, age):\n",
        "        self.name = name\n",
        "        self.age = age\n",
        "        \n",
        "    def sit(self):\n",
        "        \"\"\"Simulate a dog sitting in response to a command.\"\"\"\n",
        "        print(self.name.title() + \" is now sitting\")\n",
        "        \n",
        "    def roll_over(self):\n",
        "        \"\"\"Simulate rolling over in response to a command.\"\"\"\n",
        "        print(self.name.title() + \" rolled over!\")\n",
        "    \n",
        "    \n",
        "my_dog = Dog('boggie', 8)\n",
        "print(\"My dog's name is \" + my_dog.name.title() + \".\")\n",
        "print(\"My dog is \" + str(my_dog.age) + \" years old.\")\n",
        "\n",
        "my_dog.sit()\n",
        "my_dog.roll_over()"
      ],
      "execution_count": null,
      "outputs": [
        {
          "output_type": "stream",
          "text": [
            "My dog's name is Boggie.\n",
            "My dog is 8 years old.\n",
            "Boggie is now sitting\n",
            "Boggie rolled over!\n"
          ],
          "name": "stdout"
        }
      ]
    },
    {
      "cell_type": "code",
      "metadata": {
        "id": "IEt2hKOk6g1W",
        "outputId": "763bc552-3a14-4ac1-839b-d1151da8894a"
      },
      "source": [
        "# creating multiple instances\n",
        "\n",
        "your_dog = Dog('Nia', 2)\n",
        "print(\"Your dog's name is \" + your_dog.name.title() + \".\")\n",
        "print(\"Your dog is \" + str(your_dog.age) + \" years old.\")"
      ],
      "execution_count": null,
      "outputs": [
        {
          "output_type": "stream",
          "text": [
            "Your dog's name is Nia.\n",
            "Your dog is 2 years old.\n"
          ],
          "name": "stdout"
        }
      ]
    },
    {
      "cell_type": "markdown",
      "metadata": {
        "id": "hSrj2nJa6g1X"
      },
      "source": [
        "1. Restaurant: Make a class called Restaurant . The __init__() method for\n",
        "Restaurant should store two attributes: a restaurant_name and a cuisine_type .\n",
        "Make a method called describe_restaurant() that prints these two pieces of\n",
        "information, and a method called open_restaurant() that prints a message indi-\n",
        "cating that the restaurant is open.\n",
        "Make an instance called restaurant from your class. Print the two attri-\n",
        "butes individually, and then call both methods.\n",
        "\n",
        "2. Three Restaurants: Start with your class from Exercise 1. Create three\n",
        "different instances from the class, and call describe_restaurant() for each\n",
        "instance.\n",
        "\n",
        "3. Users: Make a class called User . Create two attributes called first_name\n",
        "and last_name , and then create several other attributes that are typically stored\n",
        "in a user profile. Make a method called describe_user() that prints a summary\n",
        "of the user’s information. Make another method called greet_user() that prints\n",
        "a personalized greeting to the user.\n",
        "Create several instances representing different users, and call both methods\n",
        "for each user."
      ]
    },
    {
      "cell_type": "code",
      "metadata": {
        "id": "a2k-V-0-6g1Y",
        "outputId": "d8120f7c-4c22-47ce-b108-289f833a24e3"
      },
      "source": [
        "# 1\n",
        "\n",
        "class Restaurant():\n",
        "    \n",
        "    def __init__(self, restaurant_name, cuisine_type):\n",
        "        self.restaurant_name = restaurant_name\n",
        "        self.cuisine_type = cuisine_type\n",
        "        \n",
        "    def describe_restaurant(self):\n",
        "        print(\"Restaurant name : \" + self.restaurant_name.title())\n",
        "        print(\"Cuisine type : \" + self.cuisine_type.title())\n",
        "    \n",
        "    def open_restaurant(self):\n",
        "        print(self.restaurant_name.title() + \" is now open!\")\n",
        "        \n",
        "    \n",
        "restaurant = Restaurant('bonda', 'family')\n",
        "print(restaurant.restaurant_name)\n",
        "print(restaurant.cuisine_type)\n",
        "print()\n",
        "restaurant.describe_restaurant()\n",
        "print()\n",
        "restaurant.open_restaurant()"
      ],
      "execution_count": null,
      "outputs": [
        {
          "output_type": "stream",
          "text": [
            "bonda\n",
            "family\n",
            "\n",
            "Restaurant name : Bonda\n",
            "Cuisine type : Family\n",
            "\n",
            "Bonda is now open!\n"
          ],
          "name": "stdout"
        }
      ]
    },
    {
      "cell_type": "code",
      "metadata": {
        "id": "PNORvHw76g1Y",
        "outputId": "6f9efefb-d9e4-4cf5-c7cc-4e1eac83bbfc"
      },
      "source": [
        "# 2\n",
        "\n",
        "mcd = Restaurant('mcd', 'fast food')\n",
        "kfc = Restaurant('kfc', 'fast food')\n",
        "\n",
        "restaurant.describe_restaurant()\n",
        "print()\n",
        "mcd.describe_restaurant()\n",
        "print()\n",
        "kfc.describe_restaurant()"
      ],
      "execution_count": null,
      "outputs": [
        {
          "output_type": "stream",
          "text": [
            "Restaurant name : Bonda\n",
            "Cuisine type : Family\n",
            "\n",
            "Restaurant name : Mcd\n",
            "Cuisine type : Fast Food\n",
            "\n",
            "Restaurant name : Kfc\n",
            "Cuisine type : Fast Food\n"
          ],
          "name": "stdout"
        }
      ]
    },
    {
      "cell_type": "code",
      "metadata": {
        "id": "e-BmOGTG6g1Z",
        "outputId": "9af3a278-0d40-47de-ae94-9f43570a95a3"
      },
      "source": [
        "# 3\n",
        "class User():\n",
        "    def __init__(self, first_name, last_name=''):\n",
        "        self.first_name = first_name\n",
        "        self.last_name = last_name\n",
        "        \n",
        "    def describe_user(self):\n",
        "        print(\"Full name : \" + self.first_name.title() + \" \" + self.last_name.title())\n",
        "        \n",
        "    def greet_user(self):\n",
        "        print(\"Hello, \" + self.first_name.title())\n",
        "    \n",
        "\n",
        "        \n",
        "derry = User('derry', 'derajat')\n",
        "nadya = User('hannadya', 'aulani f')\n",
        "ilham = User('ilham')\n",
        "\n",
        "derry.describe_user()\n",
        "derry.greet_user()\n",
        "print()\n",
        "nadya.describe_user()\n",
        "nadya.greet_user()\n",
        "print()\n",
        "ilham.describe_user()\n",
        "ilham.greet_user()\n"
      ],
      "execution_count": null,
      "outputs": [
        {
          "output_type": "stream",
          "text": [
            "Full name : Derry Derajat\n",
            "Hello, Derry\n",
            "\n",
            "Full name : Hannadya Aulani F\n",
            "Hello, Hannadya\n",
            "\n",
            "Full name : Ilham \n",
            "Hello, Ilham\n"
          ],
          "name": "stdout"
        }
      ]
    },
    {
      "cell_type": "markdown",
      "metadata": {
        "id": "9BrpjlFF6g1a"
      },
      "source": [
        "<a name=\"12.2\"></a>\n",
        "## 12.2 Working with Classes and Instances"
      ]
    },
    {
      "cell_type": "code",
      "metadata": {
        "id": "pVFUgzRG6g1b",
        "outputId": "313cf1bb-4a29-4ea6-e7db-6a246de092c8"
      },
      "source": [
        "class Car():\n",
        "    \"\"\"A simple attempt to represent a car.\"\"\"\n",
        "    def __init__(self, make, model, year):\n",
        "        \"\"\"Initialize attributes to describe a car.\"\"\"\n",
        "        self.make = make\n",
        "        self.model = model\n",
        "        self.year = year\n",
        "        self.odometer_reading = 0\n",
        "        \n",
        "    def get_descriptive_name(self):\n",
        "        \"\"\"Return a neatly formatted descriptive name.\"\"\"\n",
        "        long_name = str(self.year) + ' ' + self.make + ' ' + self.model\n",
        "        return long_name.title()\n",
        "\n",
        "    def read_odometer(self):\n",
        "        \"\"\"Print a statement showing car's mileage\"\"\"\n",
        "        print(\"This car has \" + str(self.odometer_reading) + \" miles on it.\")\n",
        "\n",
        "    def update_odometer(self, mileage):\n",
        "        \"\"\"\n",
        "        Set the odometer reading to the given value.\n",
        "        Reject the change if it attempts to roll the odometer back.\n",
        "        \n",
        "        \"\"\"\n",
        "        if mileage >= self.odometer_reading:\n",
        "            self.odometer_reading = mileage\n",
        "        else:\n",
        "            print(\"You can't roll back an odometer\")\n",
        "        \n",
        "    def increment_odometer(self, miles):\n",
        "        \"\"\"Add the given amount to the odometer reading.\"\"\"\n",
        "        self.odometer_reading += miles\n",
        "        \n",
        "    def fill_gass_tank():\n",
        "        pass\n",
        "    \n",
        "        \n",
        "my_new_car = Car('audi', 'a4', 2016)\n",
        "print(my_new_car.get_descriptive_name())\n",
        "\n",
        "my_new_car.read_odometer()\n",
        "my_new_car.odometer_reading = 25\n",
        "my_new_car.read_odometer()\n",
        "my_new_car.update_odometer(10)\n",
        "my_new_car.read_odometer()\n",
        "\n",
        "my_new_car.increment_odometer(100)\n",
        "my_new_car.read_odometer()"
      ],
      "execution_count": null,
      "outputs": [
        {
          "output_type": "stream",
          "text": [
            "2016 Audi A4\n",
            "This car has 0 miles on it.\n",
            "This car has 25 miles on it.\n",
            "You can't roll back an odometer\n",
            "This car has 25 miles on it.\n",
            "This car has 125 miles on it.\n"
          ],
          "name": "stdout"
        }
      ]
    },
    {
      "cell_type": "markdown",
      "metadata": {
        "id": "BRLFRiEB6g1c"
      },
      "source": [
        "<a name=\"12.3\"></a>\n",
        "## 12.3 Inheritance"
      ]
    },
    {
      "cell_type": "code",
      "metadata": {
        "id": "tw-otd6u6g1d"
      },
      "source": [
        "class ElectricalCar(Car):\n",
        "    \"\"\"Represent aspect of a car, specific to electric vehicles.\"\"\"\n",
        "    \n",
        "    def __init__(self, make, model, year):\n",
        "        \"\"\"\n",
        "        Initialize attributes of the parent class.\n",
        "        Then initialize attributes specific to an electric car.\"\"\"\n",
        "        super().__init__(make, model, year)\n",
        "        self.battery = Battery()\n",
        "    \n",
        "        \n",
        "    def fill_gas_tank():\n",
        "        \"\"\"Electric cars don't have gas tanks.\"\"\"\n",
        "        print(\"This car doesn't need a gas tank!\")\n",
        "        \n",
        "\n",
        "class Battery():\n",
        "    \"\"\"A simple attempt to model a battery for an electric car.\"\"\"\n",
        "    \n",
        "    def __init__(self, battery_size = 70):\n",
        "        \"\"\"Initialize the battery's attributes.\"\"\"\n",
        "        self.battery_size = battery_size\n",
        "        \n",
        "    def get_range(self):\n",
        "        \"\"\"Print a statement about the range this battery provides.\"\"\"\n",
        "        if self.battery_size == 70:\n",
        "            range = 240\n",
        "        elif self.battery_size == 85:\n",
        "            range = 270\n",
        "            \n",
        "        message = \"This car can go approximately \" + str(range)\n",
        "        message += \" miles on a full charge.\"\n",
        "        print(message)\n",
        "    \n",
        "    def describe_battery(self):\n",
        "        \"\"\"Print a statement describing the battery size.\"\"\"\n",
        "        print(\"This car has a \" + str(self.battery_size) + \"-kWh battery.\")\n",
        "        "
      ],
      "execution_count": null,
      "outputs": []
    },
    {
      "cell_type": "code",
      "metadata": {
        "id": "AdxXftdB6g1d",
        "outputId": "8d8b5eda-1518-45ac-a14a-a2b63841dc48"
      },
      "source": [
        "my_tesla = ElectricalCar('tesla', 'model s', 2016)\n",
        "print(my_tesla.get_descriptive_name())\n",
        "my_tesla.battery.describe_battery()\n",
        "my_tesla.battery.get_range()"
      ],
      "execution_count": null,
      "outputs": [
        {
          "output_type": "stream",
          "text": [
            "2016 Tesla Model S\n",
            "This car has a 70-kWh battery.\n",
            "This car can go approximately 240 miles on a full charge.\n"
          ],
          "name": "stdout"
        }
      ]
    },
    {
      "cell_type": "code",
      "metadata": {
        "id": "z_jsmH006g1e",
        "outputId": "2642ac90-62ee-4536-d384-e1c54e2efd76"
      },
      "source": [
        "# Python Standard Library\n",
        "from collections import OrderedDict\n",
        "\n",
        "mahasiswa = OrderedDict()\n",
        "print(\"{} == OrderedDict() : \", {} == OrderedDict())\n",
        "mahasiswa['nama'] = 'Derry Derajat'\n",
        "mahasiswa['semester'] = 3\n",
        "mahasiswa['fakultas'] = 'FTI'\n",
        "print(mahasiswa)"
      ],
      "execution_count": null,
      "outputs": [
        {
          "output_type": "stream",
          "text": [
            "{} == OrderedDict() :  True\n",
            "OrderedDict([('nama', 'Derry Derajat'), ('semester', 3), ('fakultas', 'FTI')])\n"
          ],
          "name": "stdout"
        }
      ]
    },
    {
      "cell_type": "code",
      "metadata": {
        "id": "y8-3RuYB6g1f"
      },
      "source": [
        ""
      ],
      "execution_count": null,
      "outputs": []
    }
  ]
}